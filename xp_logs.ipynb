{
 "cells": [
  {
   "cell_type": "markdown",
   "metadata": {},
   "source": [
    "## Try parameters\n",
    "### FB15K"
   ]
  },
  {
   "cell_type": "code",
   "execution_count": null,
   "metadata": {},
   "outputs": [],
   "source": [
    "\n",
    "con.set_bern(0)\n",
    "con.set_dimension(100)\n",
    "con.set_ent_neg_rate(1)\n",
    "con.set_rel_neg_rate(0)\n",
    "con.set_opt_method(\"SGD\")\n",
    "\n",
    "metric:                  MRR             MR\n",
    "l(filter):               0.468   86\n",
    "r(filter):               0.518   56\n",
    "averaged(filter):        0.493   71"
   ]
  },
  {
   "cell_type": "code",
   "execution_count": null,
   "metadata": {},
   "outputs": [],
   "source": [
    "con.set_train_times(100)\n",
    "con.set_nbatches(100)\n",
    "con.set_opt_method(\"ADM\")\n",
    "\n",
    "metric:                  MRR             MR\n",
    "l(filter):               0.339   95\n",
    "r(filter):               0.390   68\n",
    "averaged(filter):        0.365   81"
   ]
  },
  {
   "cell_type": "code",
   "execution_count": null,
   "metadata": {},
   "outputs": [],
   "source": [
    "con.set_train_times(100)\n",
    "con.set_nbatches(100)\n",
    "metric:                  MRR             MR\n",
    "l(filter):               0.340   96\n",
    "r(filter):               0.391   69\n",
    "averaged(filter):        0.365   83"
   ]
  },
  {
   "cell_type": "code",
   "execution_count": null,
   "metadata": {},
   "outputs": [],
   "source": [
    "con.set_train_times(100)\n",
    "con.set_opt_method(\"ADAM\")\n",
    "metric:                  MRR             MR\n",
    "l(filter):               0.340   97\n",
    "r(filter):               0.394   69\n",
    "averaged(filter):        0.367   83\n"
   ]
  },
  {
   "cell_type": "code",
   "execution_count": null,
   "metadata": {},
   "outputs": [],
   "source": [
    "con.set_train_times(100)\n",
    "metric:                  MRR             MR\n",
    "l(filter):               0.339   96\n",
    "r(filter):               0.395   69\n",
    "averaged(filter):        0.367   82"
   ]
  },
  {
   "cell_type": "code",
   "execution_count": null,
   "metadata": {},
   "outputs": [],
   "source": [
    "endcon.set_train_times(100)\n",
    "con.set_nbatches(10000)\n",
    "con.set_opt_method(\"ADM\")\n",
    "real    15m32.031s\n",
    "user    23m50.728s\n",
    "sys     6m32.448s\n",
    "metric:                  MRR             MR\n",
    "l(filter):               0.339   96\n",
    "r(filter):               0.392   70\n",
    "averaged(filter):        0.366   83"
   ]
  },
  {
   "cell_type": "code",
   "execution_count": null,
   "metadata": {},
   "outputs": [],
   "source": [
    "con.set_train_times(100)\n",
    "con.set_nbatches(10)\n",
    "con.set_opt_method(\"ADM\")\n",
    "metric:                  MRR             MR\n",
    "l(filter):               0.288   391\n",
    "r(filter):               0.340   258\n",
    "averaged(filter):        0.314   324"
   ]
  },
  {
   "cell_type": "markdown",
   "metadata": {},
   "source": [
    "### RV15M"
   ]
  },
  {
   "cell_type": "code",
   "execution_count": null,
   "metadata": {},
   "outputs": [],
   "source": [
    "con.set_train_times(1000)\n",
    "con.set_nbatches(1000)\n",
    "con.set_alpha(0.001)\n",
    "con.set_margin(1.0)\n",
    "con.set_bern(0)\n",
    "con.set_dimension(100)\n",
    "con.set_ent_neg_rate(1)\n",
    "con.set_rel_neg_rate(0)\n",
    "con.set_opt_method(\"SGD\")\n",
    "\n",
    "\n",
    "metric:                  MRR             MR\n",
    "l(filter):               0.030   263336\n",
    "r(filter):               0.031   239645\n",
    "averaged(filter):        0.030   251490"
   ]
  },
  {
   "cell_type": "code",
   "execution_count": null,
   "metadata": {},
   "outputs": [],
   "source": [
    "con.set_nbatches(100)\n",
    "\n",
    "\n",
    "metric:                  MRR             MR\n",
    "l(filter):               0.028   302535\n",
    "r(filter):               0.029   281729\n",
    "averaged(filter):        0.028   292132"
   ]
  },
  {
   "cell_type": "markdown",
   "metadata": {},
   "source": [
    "### Adagrad"
   ]
  },
  {
   "cell_type": "code",
   "execution_count": null,
   "metadata": {
    "collapsed": true
   },
   "outputs": [],
   "source": [
    "con.set_train_times(500)\n",
    "con.set_nbatches(100)\n",
    "con.set_alpha(0.1)\n",
    "con.set_opt_method(\"Adagrad\")\n",
    "\n",
    "\n",
    "metric:                  MRR             MR\n",
    "l(filter):               0.011   215895\n",
    "r(filter):               0.015   235052\n",
    "averaged(filter):        0.013   225473"
   ]
  },
  {
   "cell_type": "code",
   "execution_count": null,
   "metadata": {},
   "outputs": [],
   "source": [
    "con.set_train_times(50)\n",
    "con.set_nbatches(100)\n",
    "con.set_alpha(0.1)\n",
    "con.set_opt_method(\"Adagrad\")\n",
    "\n",
    "metric:                  MRR             MR\n",
    "l(filter):               0.005   234661\n",
    "r(filter):               0.007   261380\n",
    "averaged(filter):        0.006   248020"
   ]
  },
  {
   "cell_type": "code",
   "execution_count": null,
   "metadata": {},
   "outputs": [],
   "source": [
    "con.set_train_times(50)\n",
    "con.set_nbatches(1000)\n",
    "con.set_alpha(0.1)\n",
    "con.set_opt_method(\"Adagrad\")\n",
    "\n",
    "metric:                  MRR             MR\n",
    "l(filter):               0.006   232923\n",
    "r(filter):               0.007   251117\n",
    "averaged(filter):        0.006   242020"
   ]
  },
  {
   "cell_type": "code",
   "execution_count": null,
   "metadata": {},
   "outputs": [],
   "source": [
    "con.set_train_times(50)\n",
    "con.set_nbatches(10000)\n",
    "con.set_alpha(0.1)\n",
    "con.set_opt_method(\"Adagrad\")\n",
    "\n",
    "metric:                  MRR             MR                                                                                                   │·············\n",
    "l(filter):               0.005   231026                                                                                                       │·············\n",
    "r(filter):               0.008   255260                                                                                                       │·············\n",
    "averaged(filter):        0.007   243143  "
   ]
  },
  {
   "cell_type": "code",
   "execution_count": null,
   "metadata": {},
   "outputs": [],
   "source": [
    "con.set_train_times(50)\n",
    "con.set_nbatches(1000)\n",
    "con.set_alpha(0.01)\n",
    "con.set_opt_method(\"Adagrad\")\n",
    "\n",
    "\n",
    "metric:                  MRR             MR\n",
    "l(filter):               0.016   180466\n",
    "r(filter):               0.023   201174\n",
    "averaged(filter):        0.019   190820"
   ]
  },
  {
   "cell_type": "code",
   "execution_count": null,
   "metadata": {},
   "outputs": [],
   "source": [
    "con.set_train_times(50)\n",
    "con.set_nbatches(10000)\n",
    "con.set_alpha(0.01)\n",
    "con.set_opt_method(\"Adagrad\")\n",
    "\n",
    "memory error (GPU)\n",
    "\n",
    "metric:                  MRR             MR\n",
    "l(filter):               0.017   179487\n",
    "r(filter):               0.022   200259\n",
    "averaged(filter):        0.019   189873"
   ]
  },
  {
   "cell_type": "code",
   "execution_count": null,
   "metadata": {},
   "outputs": [],
   "source": [
    "con.set_train_times(50)\n",
    "con.set_nbatches(10000)\n",
    "con.set_alpha(0.001)\n",
    "con.set_opt_method(\"Adagrad\")\n",
    "\n",
    "ilar01 : 100 min\n",
    "\n",
    "metric:                  MRR             MR\n",
    "l(filter):               0.014   248670\n",
    "r(filter):               0.021   283168\n",
    "averaged(filter):        0.018   265919"
   ]
  },
  {
   "cell_type": "code",
   "execution_count": 5,
   "metadata": {
    "scrolled": true
   },
   "outputs": [
    {
     "ename": "LoadError",
     "evalue": "\u001b[91mUndefVarError: con not defined\u001b[39m",
     "output_type": "error",
     "traceback": [
      "\u001b[91mUndefVarError: con not defined\u001b[39m",
      ""
     ]
    }
   ],
   "source": [
    "con.set_train_times(50)\n",
    "con.set_nbatches(100000)\n",
    "con.set_alpha(0.01)\n",
    "con.set_opt_method(\"Adagrad\")\n",
    "\n",
    "240 mins training on ilar01\n",
    "\n",
    "metric:                  MRR             MR\n",
    "l(filter):               0.017   177451\n",
    "r(filter):               0.022   197076\n",
    "averaged(filter):        0.019   187264\n",
    "\n",
    "metric:                  MRR             MR\n",
    "l(filter):               0.016   180145\n",
    "r(filter):               0.022   198142\n",
    "averaged(filter):        0.019   189143"
   ]
  },
  {
   "cell_type": "code",
   "execution_count": null,
   "metadata": {},
   "outputs": [],
   "source": [
    "# CURRENT BEST\n",
    "con.set_train_times(500)\n",
    "con.set_nbatches(100000)\n",
    "con.set_alpha(0.01)\n",
    "con.set_opt_method(\"Adagrad\")\n",
    "\n",
    "2412 mins training on malaga01 (40h)\n",
    "\n",
    "metric:                  MRR             MR\n",
    "l(filter):               0.021   177604\n",
    "r(filter):               0.027   187844\n",
    "averaged(filter):        0.024   182724"
   ]
  },
  {
   "cell_type": "markdown",
   "metadata": {},
   "source": [
    "con.set_train_times(2000)\n",
    "con.set_nbatches(100000)\n",
    "con.set_alpha(0.01)\n",
    "con.set_opt_method(\"Adagrad\")\n",
    "\n",
    "9578m training on malaga02 (expected 1w to run, started 04/07)\n",
    "\n",
    "SAVE error\n"
   ]
  },
  {
   "cell_type": "code",
   "execution_count": null,
   "metadata": {},
   "outputs": [],
   "source": [
    "# con.set_train_times(50)\n",
    "# con.set_nbatches(100)\n",
    "# con.set_alpha(0.01)\n",
    "# con.set_opt_method(\"Adagrad\")\n",
    "\n",
    "# memory error"
   ]
  },
  {
   "cell_type": "code",
   "execution_count": null,
   "metadata": {},
   "outputs": [],
   "source": [
    "con.set_train_times(50)\n",
    "con.set_nbatches(1000)\n",
    "con.set_alpha(1)\n",
    "con.set_opt_method(\"Adagrad\")\n",
    "\n",
    "\n",
    "metric:                  MRR             MR                                   \n",
    "l(filter):               0.003   248867                                       \n",
    "r(filter):               0.004   270453                                       \n",
    "averaged(filter):        0.003   259660  "
   ]
  },
  {
   "cell_type": "code",
   "execution_count": null,
   "metadata": {},
   "outputs": [],
   "source": [
    "con.set_train_times(500)\n",
    "con.set_nbatches(100)\n",
    "con.set_alpha(0.1)\n",
    "con.set_opt_method(\"SGD\")\n",
    "\n",
    "Training\n",
    "real    38m4.090s\n",
    "user    126m57.216s\n",
    "sys     4m28.508s\n",
    "\n",
    "metric:                  MRR             MR\n",
    "l(filter):               0.006   493731\n",
    "r(filter):               0.010   484047\n",
    "averaged(filter):        0.008   488889"
   ]
  },
  {
   "cell_type": "code",
   "execution_count": null,
   "metadata": {},
   "outputs": [],
   "source": [
    "con.set_train_times(500)\n",
    "con.set_nbatches(100)\n",
    "con.set_alpha(0.1)\n",
    "con.set_opt_method(\"ADAM\")\n",
    "\n",
    "metric:                  MRR             MR\n",
    "l(filter):               0.005   484109\n",
    "r(filter):               0.010   485225\n",
    "averaged(filter):        0.008   484667"
   ]
  },
  {
   "cell_type": "code",
   "execution_count": null,
   "metadata": {},
   "outputs": [],
   "source": [
    "con.set_train_times(500)\n",
    "con.set_nbatches(10000)\n",
    "con.set_alpha(0.01)\n",
    "con.set_opt_method(\"ADAM\")\n",
    "\n",
    "638m training on ilar01\n",
    "1218m training on malaga01\n",
    "\n",
    "ilar is 2x faster than malaga.\n",
    "\n",
    "metric:                  MRR             MR\n",
    "l(filter):               0.016   269827\n",
    "r(filter):               0.019   250158\n",
    "averaged(filter):        0.018   259992\n"
   ]
  },
  {
   "cell_type": "code",
   "execution_count": null,
   "metadata": {},
   "outputs": [],
   "source": [
    "con.set_train_times(100)\n",
    "\n",
    "metric:                  MRR             MR\n",
    "l(filter):               0.025   236593\n",
    "r(filter):               0.026   220239\n",
    "averaged(filter):        0.025   228416"
   ]
  },
  {
   "cell_type": "markdown",
   "metadata": {},
   "source": [
    "### Idée de William"
   ]
  },
  {
   "cell_type": "code",
   "execution_count": null,
   "metadata": {},
   "outputs": [],
   "source": [
    "XP 13\n",
    "con.set_train_times(50)\n",
    "con.set_nbatches(100000)\n",
    "con.set_alpha(0.01)\n",
    "con.set_opt_method(\"Adagrad\")\n",
    "averaged(filter):        0.019   187264\n",
    "\n",
    "\n",
    "con.set_train_times(50)\n",
    "con.set_nbatches(100000)\n",
    "con.set_alpha(0.001) -> 0.01 is better by 80k. See experiment number 13\n",
    "con.set_opt_method(\"Adagrad\")\n",
    "\n",
    "276m training on ilar01\n",
    "\n",
    "\n",
    "metric:                  MRR             MR                                                                                                   │·············\n",
    "l(filter):               0.015   247379                                                                                                       │·············\n",
    "r(filter):               0.023   281311                                                                                                       │·············\n",
    "averaged(filter):        0.019   264345  \n"
   ]
  },
  {
   "cell_type": "code",
   "execution_count": null,
   "metadata": {},
   "outputs": [],
   "source": [
    "con.set_train_times(50)\n",
    "con.set_nbatches(100000)\n",
    "con.set_alpha(0.05) -> again, 0.01 is better (by 40k), see 13\n",
    "con.set_opt_method(\"Adagrad\")\n",
    "\n",
    "257m training on malaga01\n",
    "metric:                  MRR             MR                                                                                                   │·············\n",
    "l(filter):               0.009   217583                                                                                                       │·············\n",
    "r(filter):               0.012   234100                                                                                                       │·············\n",
    "averaged(filter):        0.010   225841 \n",
    "\n",
    "0.01 is best. 0.001 is worse, and 0.05 is worse too.\n"
   ]
  },
  {
   "cell_type": "code",
   "execution_count": null,
   "metadata": {},
   "outputs": [],
   "source": [
    "# Also try\n",
    "con.set_train_times(50)\n",
    "con.set_nbatches(10000)\n",
    "con.set_alpha(0.0005)\n",
    "con.set_opt_method(\"ADAM\")\n",
    "\n",
    "64md training on ilar02\n",
    "\n",
    "metric:                  MRR             MR                                                                                                   │·······\n",
    "l(filter):               0.027   238120                                                                                                       │·······\n",
    "r(filter):               0.026   233288                                                                                                       │·······\n",
    "averaged(filter):        0.026   235704 "
   ]
  },
  {
   "cell_type": "code",
   "execution_count": null,
   "metadata": {},
   "outputs": [],
   "source": [
    "con.set_train_times(50)\n",
    "con.set_nbatches(10000)\n",
    "con.set_alpha(0.001) -> this is good. better than 0.01 (for ADAM!)\n",
    "con.set_opt_method(\"ADAM\")\n",
    "\n",
    "71m training on ilar01\n",
    "\n",
    "metric:                  MRR            MR\n",
    "l(filter):               0.025   239976                                                                                                       │·············\n",
    "r(filter):               0.026   228103                                                                                                       │·············\n",
    "averaged(filter):        0.025   234040 "
   ]
  },
  {
   "cell_type": "code",
   "execution_count": null,
   "metadata": {},
   "outputs": [],
   "source": [
    "con.set_train_times(50)\n",
    "con.set_nbatches(10000)\n",
    "con.set_alpha(0.0001) -> this is worse than 0.001. \n",
    "con.set_opt_method(\"ADAM\")\n",
    "\n",
    "138m training on malaga01\n",
    "\n",
    "metric:                  MRR             MR                                                                                                   │·············\n",
    "l(filter):               0.023   362598                                                                                                       │·············\n",
    "r(filter):               0.022   394606                                                                                                       │·············\n",
    "averaged(filter):        0.023   378602  "
   ]
  },
  {
   "cell_type": "code",
   "execution_count": null,
   "metadata": {},
   "outputs": [],
   "source": [
    "# Best ADAM result so far\n",
    "con.set_train_times(50)\n",
    "con.set_nbatches(100000) -> this 100k is slightly better than 10k, by 3k MR (6k rMR), though 3x slower\n",
    "con.set_alpha(0.001)\n",
    "con.set_opt_method(\"ADAM\")\n",
    "\n",
    "200m training on ilar02\n",
    "\n",
    "metric:                  MRR             MR                                                                                                   │·············\n",
    "l(filter):               0.026   240301                                                                                                       │·············\n",
    "r(filter):               0.025   221741                                                                                                       │·············\n",
    "averaged(filter):        0.026   231021   "
   ]
  },
  {
   "cell_type": "code",
   "execution_count": null,
   "metadata": {},
   "outputs": [],
   "source": [
    "con.set_dimension(200)\n",
    "con.set_train_times(50)\n",
    "con.set_nbatches(100000) # 100k is better than 10k\n",
    "con.set_alpha(0.005) -> this is worse than 0.001\n",
    "con.set_opt_method(\"ADAM\")\n",
    "\n",
    "222m training on malaga01\n",
    "\n",
    "metric:                  MRR             MR                                                                                                   │·············\n",
    "l(filter):               0.015   277255                                                                                                       │·············\n",
    "r(filter):               0.016   259035                                                                                                       │·············\n",
    "averaged(filter):        0.015   268145 "
   ]
  },
  {
   "cell_type": "code",
   "execution_count": null,
   "metadata": {},
   "outputs": [],
   "source": [
    "con.set_train_times(500)\n",
    "con.set_nbatches(100000)  # 100k is better than 10k\n",
    "con.set_alpha(0.001) # 0.001 is best among 0.01, 0.005, 0.001\n",
    "con.set_opt_method(\"ADAM\")\n",
    "\n",
    "1905m training on ilar01\n",
    "\n",
    "metric:                  MRR             MR                                                                                                   │·······\n",
    "l(filter):               0.029   256943                                                                                                       │·······\n",
    "r(filter):               0.029   234902                                                                                                       │·······\n",
    "averaged(filter):        0.029   245923"
   ]
  },
  {
   "cell_type": "markdown",
   "metadata": {},
   "source": [
    "## Try increase demension for RV15M"
   ]
  },
  {
   "cell_type": "code",
   "execution_count": null,
   "metadata": {},
   "outputs": [],
   "source": [
    "con.set_train_times(50)\n",
    "con.set_nbatches(100000)\n",
    "con.set_alpha(0.01)\n",
    "con.set_opt_method(\"Adagrad\")\n",
    "con.set_dimension(200)\n",
    "\n",
    "360m training on malaga01 -  1241m testing on malaga01\n",
    "\n",
    "metric:                  MRR             MR\n",
    "l(filter):               0.019   186894\n",
    "r(filter):               0.025   201317\n",
    "averaged(filter):        0.022   194106"
   ]
  },
  {
   "cell_type": "code",
   "execution_count": null,
   "metadata": {},
   "outputs": [],
   "source": [
    "con.set_train_times(100)\n",
    "con.set_nbatches(100000)\n",
    "con.set_alpha(0.01)\n",
    "con.set_opt_method(\"Adagrad\")\n",
    "con.set_dimension(200)\n",
    "\n",
    "killed on malaga01 (743m)\n",
    "Training on ilar02\n",
    "\n",
    "metric:                  MRR             MR\n",
    "l(filter):               0.020   184577\n",
    "r(filter):               0.025   202688\n",
    "averaged(filter):        0.023   193633"
   ]
  },
  {
   "cell_type": "markdown",
   "metadata": {},
   "source": [
    "## Clustering"
   ]
  },
  {
   "cell_type": "code",
   "execution_count": null,
   "metadata": {},
   "outputs": [],
   "source": [
    "TransE + V1\n",
    "Run on ilar02 in path ilar01\n",
    "metric:                  MRR             MR\n",
    "l(filter):               0.012   186298\n",
    "r(filter):               0.017   216421\n",
    "averaged(filter):        0.014   201359\n",
    "\n",
    "TransE + V2\n",
    "metric:                  MRR             MR\n",
    "l(filter):               0.014   167051\n",
    "r(filter):               0.019   201573\n",
    "averaged(filter):        0.017   184312\n",
    "\n",
    "TransE + V3\n",
    "metric:                  MRR             MR\n",
    "l(filter):               0.009   220792\n",
    "r(filter):               0.013   254219\n",
    "averaged(filter):        0.011   237506\n",
    "\n",
    "TransE + V4\n",
    "metric:                  MRR             MR\n",
    "l(filter):               0.013   748387\n",
    "r(filter):               0.003   713846\n",
    "averaged(filter):        0.008   731116\n",
    "\n",
    "TransE + V5\n",
    "metric:                  MRR             MR\n",
    "l(filter):               0.015   170929\n",
    "r(filter):               0.019   200386\n",
    "averaged(filter):        0.017   185657"
   ]
  }
 ],
 "metadata": {
  "kernelspec": {
   "display_name": "Python 3",
   "language": "python",
   "name": "python3"
  },
  "language_info": {
   "codemirror_mode": {
    "name": "ipython",
    "version": 3
   },
   "file_extension": ".py",
   "mimetype": "text/x-python",
   "name": "python",
   "nbconvert_exporter": "python",
   "pygments_lexer": "ipython3",
   "version": "3.4.2"
  },
  "varInspector": {
   "cols": {
    "lenName": 16,
    "lenType": 16,
    "lenVar": 40
   },
   "kernels_config": {
    "python": {
     "delete_cmd_postfix": "",
     "delete_cmd_prefix": "del ",
     "library": "var_list.py",
     "varRefreshCmd": "print(var_dic_list())"
    },
    "r": {
     "delete_cmd_postfix": ") ",
     "delete_cmd_prefix": "rm(",
     "library": "var_list.r",
     "varRefreshCmd": "cat(var_dic_list()) "
    }
   },
   "types_to_exclude": [
    "module",
    "function",
    "builtin_function_or_method",
    "instance",
    "_Feature"
   ],
   "window_display": false
  }
 },
 "nbformat": 4,
 "nbformat_minor": 2
}
