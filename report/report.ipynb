{
 "cells": [
  {
   "cell_type": "markdown",
   "metadata": {},
   "source": [
    "# Corpus\n",
    "\n",
    "|           |  FB15K |   WN18 |    DeFIE |    RV15M |\n",
    "|-----------|--------|--------|----------|----------|\n",
    "| Relations |   1345 |     18 |   255881 |   664746 |\n",
    "| Entities  |  14951 |  40943 |  2509444 |  2263915 |\n",
    "| Train     | 483142 | 141442 | 16277587 | 14708268 |\n",
    "| Test      |  59071 |   5000 |    10000 |    10000 |\n",
    "| Valid     |  50000 |   5000 |    10000 |    10000 |\n",
    "\n",
    "# FB15K\n",
    "\n",
    "|      | TransE | TransH | DistMult |\n",
    "| ---- | ------ | ------ | -------- |\n",
    "| Head | 87     | 93     | 48       |\n",
    "| Tail | 55     | 59     | 28       |\n",
    "| Mean | 71     | 76     | 38       |\n",
    "\n",
    "- TransE:  nbatches = 100,train_times = 1000, SGD, lr = 0.001, n = 100\n",
    "- TransH: nbatches = 100,train_times = 500, SGD, lr = 0.001, n = 100\n",
    "- DistMult: nbatches = 500, train_times = 100, Adam, lr= 0.001, n=1000,(max-margin + NLL + softmax as the loss, 5 mins train on GPU, MR=38 outperformed single distmult in Kadlec et Al. 2017 /MR= 42, MRR = 0.798/, our MRR= 0.535 is a little worse.)\n",
    "\n",
    "## Loss function - NLL + softmax ?\n"
   ]
  },
  {
   "cell_type": "markdown",
   "metadata": {},
   "source": [
    "# RV15M\n",
    "## Clustering\n",
    "\n",
    "### cluster V1\n",
    "\n",
    "Reverb-15M_train_clusters.json\n",
    "\n",
    "|                 |                 Total |\n",
    "|-----------------|-----------------------|\n",
    "| Clusters        |                  2282 |\n",
    "| Relations       |                228216 |\n",
    "| Max relation id |                199704 |\n",
    "| Coverage rate   | 34.3% (228216/664746) |\n",
    "\n",
    "### Affect of clustering\n",
    "\n",
    "- Number of relations before clustering: 5219\n",
    "- Number of relations before after: 1293\n",
    "- Number of records in test affected by clustering: 6424\n",
    "- Head prediction degraded records number: 4436\n",
    "- Tail prediction degraded records number: 4729\n",
    "- Head&Tail prediction degraded records number (intersection): 3598\n",
    "- Head|Tail prediction degraded records number (union): 5567\n",
    "\n",
    "### A sample of records with performance degraded\n",
    "\n",
    "| no   | arg1 | rel_clustered | arg2 | rel  | l_rank | l_rank_clustered | r_rank | r_rank_clustered |\n",
    "| ---- | ---- | ------------- | ---- | ---- | ------ | ---------------- | ------ | ---------------- |\n",
    "| 4    | satan             | be in | parole                     | be on | 2187   | 4820    | 96     | 36755   |\n",
    "| 5    | marshall          | be in | drew street                | be on | 670620 | 1050632 | 924190 | 1658857 |\n",
    "| 6    | morris            | be in | bass                       | be on | 2137   | 6624    | 218    | 43356   |\n",
    "| 7    | the agm           | be in | june 7th                   | be on | 418    | 1937    | 2985   | 24374   |\n",
    "| 8    | sweeney           | be in | the north side of the road | be on | 101124 | 651613  | 1206   | 2065521 |\n",
    "| 9    | want              | be in | top                        | be on | 208    | 11643   | 49     | 7678    |\n",
    "| 10   | the greens        | be in | 5 %                        | be on | 820    | 3785    | 167012 | 947702  |\n",
    "| 11   | senior management | be in | board                      | be on | 11669  | 66807   | 90     | 26658   |\n",
    "| 370  | the super bowl                     | come to | town          | be come to | 11607  | 21334  | 85    | 105    |\n",
    "| 371  | the republican national convention | come to | town          | be come to | 7548   | 15590  | 46    | 72     |\n",
    "| 372  | mark teixeira                      | come to | town          | be come to | 24004  | 132588 | 163   | 956    |\n",
    "| 373  | usage-based pricing                | come to | the internet  | be come to | 314267 | 971597 | 67455 | 451610 |\n",
    "| 374  | the king                           | come to | town tomorrow | be come to | 1264   | 4032   | 76    | 255    |\n",
    "| 375  | tivo                               | come to | canada        | be come to | 5797   | 46900  | 788   | 1351   |\n",
    "\n",
    "\n",
    "\n",
    "### Clustering with the filtering of high frequency relations\n",
    "\n",
    "<div>\n",
    "    <a href=\"https://plot.ly/~jasonjcwu/1/?share_key=q4s6sC1YZpppkJW96BqplW\" target=\"_blank\" title=\"Plot 1\" style=\"display: block; text-align: center;\"><img src=\"https://plot.ly/~jasonjcwu/1.png?share_key=q4s6sC1YZpppkJW96BqplW\" alt=\"Plot 1\" style=\"max-width: 100%;width: 600px;\"  width=\"600\" onerror=\"this.onerror=null;this.src='https://plot.ly/404.png';\" /></a>\n",
    "    <script data-plotly=\"jasonjcwu:1\" sharekey-plotly=\"q4s6sC1YZpppkJW96BqplW\" src=\"https://plot.ly/embed.js\" async></script>\n",
    "</div>\n",
    "\n",
    "<div>\n",
    "    <a href=\"https://plot.ly/~jasonjcwu/3/?share_key=lG5R3gnwIsAyB3WvPr7NRL\" target=\"_blank\" title=\"Plot 3\" style=\"display: block; text-align: center;\"><img src=\"https://plot.ly/~jasonjcwu/3.png?share_key=lG5R3gnwIsAyB3WvPr7NRL\" alt=\"Plot 3\" style=\"max-width: 100%;width: 600px;\"  width=\"600\" onerror=\"this.onerror=null;this.src='https://plot.ly/404.png';\" /></a>\n",
    "    <script data-plotly=\"jasonjcwu:3\" sharekey-plotly=\"lG5R3gnwIsAyB3WvPr7NRL\" src=\"https://plot.ly/embed.js\" async></script>\n",
    "</div>"
   ]
  },
  {
   "cell_type": "markdown",
   "metadata": {},
   "source": [
    "## Performance comparison\n",
    "\n",
    "\n",
    "\n",
    "|      |    Default TransE  | TransE + V1 clusters (at test time only) |   Baseline V1 |\n",
    "|------|--------|------------|--------|\n",
    "| Left  = Head | 304682 |     392075 | 169512 |\n",
    "| Right = Tail | 285609 |     410315 | 237961 |\n",
    "| Mean |  295145      |    401195        | 203736 |\n",
    "\n",
    "| -    | Baseline V1     | Baseline V2     | Delta % |\n",
    "| ---- | ------ | ------ | ----- |\n",
    "| MR_L | 169512 | 157385 | 7%    |\n",
    "| MR_R | 237961 | 218048 | 8.4%  |\n",
    "| Mean | 203736 | 187716 | 7.9%  |\n",
    "\n",
    "- Baseline v1: a list ranked by frequence in total.\n",
    "- Baseline v2: a dictionary. Each relation maintains it's own frequence list.\n",
    "\n",
    "Work in progress :\n",
    "\n",
    "|      | Freq baseline | Best TransE* | Best DistMult | Baseline V2 | Baseline V2 + best cluster(V4) | best EmbModel + clusters (train!) |\n",
    "| ---- | ------------- | ----------- | ------------- | ----------- | --------------------------- | --------------------------------- |\n",
    "| Head | 170k          | 178k        |               | 157k        | 151k                        |                                   |\n",
    "| Tail | 238k          | 188k        |               | 218k        | 209k                        |                                   |\n",
    "| Mean | 203k          | 183k        |               | 188k        | 180k                        |                                   |\n",
    "Best TransE*: Adagrad lr=0.01 nbatches=100k traintimes=500 but 50 is only 5k worse"
   ]
  },
  {
   "cell_type": "markdown",
   "metadata": {},
   "source": [
    "## Clusters\n",
    "\n",
    "### Statistics of clusters\n",
    "\n",
    "|           | V1     | V2     | V3     | V4     | V5     |\n",
    "| --------- | ------ | ------ | ------ | ------ | ------ |\n",
    "| Clusters  | 2282   | 10000  | 10000  | 1000   | 9999   |\n",
    "| Relations | 228216 | 585118 | 585118 | 585118 | 585118 |"
   ]
  },
  {
   "cell_type": "markdown",
   "metadata": {},
   "source": [
    "### Baseline V2 + clusters\n",
    "|          | cluster V1 | cluster V2 | cluster V3 | cluster V4 | cluster V5 |\n",
    "| -------- | ---------- | ---------- | ---------- | ---------- | ---------- |\n",
    "| MR Left  | 153k     | 153k       | 154k       | 151k       | 154k       |\n",
    "| MR Right | 211k     | 213k       | 214k       | 209k       | 213k       |\n",
    "| Mean      | 182k       | 183k       | 184k       | 180k       | 183k       |"
   ]
  },
  {
   "cell_type": "markdown",
   "metadata": {},
   "source": [
    "### TransE + clusters\n",
    "\n",
    "|          | TransE+V1 | TransE+V2 | TransE+V3 | TransE+V4 | TransE+V5 |\n",
    "| -------- | --------- | --------- | --------- | --------- | --------- |\n",
    "| MR Left  | 186k      | 167k      | 221k      | 748k      | 170k      |\n",
    "| MR Right | 216k      | 202k      | 254k      | 714k      | 200k      |\n",
    "| Mean     | 201k      | 184k      | 238k      | 731k      | 185k      |\n",
    "\n",
    "P.S.: All with best TransE hyperparameter. (Adagrad lr=0.01 nbatches=100k traintimes=500)"
   ]
  },
  {
   "cell_type": "markdown",
   "metadata": {},
   "source": [
    "## Statistics\n",
    "![ranks_histogram](ranks_histogram.png \"Ranks Histogram\")"
   ]
  },
  {
   "cell_type": "code",
   "execution_count": null,
   "metadata": {},
   "outputs": [],
   "source": []
  }
 ],
 "metadata": {
  "kernelspec": {
   "display_name": "Python 3",
   "language": "python",
   "name": "python3"
  },
  "language_info": {
   "codemirror_mode": {
    "name": "ipython",
    "version": 3
   },
   "file_extension": ".py",
   "mimetype": "text/x-python",
   "name": "python",
   "nbconvert_exporter": "python",
   "pygments_lexer": "ipython3",
   "version": "3.4.2"
  },
  "varInspector": {
   "cols": {
    "lenName": 16,
    "lenType": 16,
    "lenVar": 40
   },
   "kernels_config": {
    "python": {
     "delete_cmd_postfix": "",
     "delete_cmd_prefix": "del ",
     "library": "var_list.py",
     "varRefreshCmd": "print(var_dic_list())"
    },
    "r": {
     "delete_cmd_postfix": ") ",
     "delete_cmd_prefix": "rm(",
     "library": "var_list.r",
     "varRefreshCmd": "cat(var_dic_list()) "
    }
   },
   "types_to_exclude": [
    "module",
    "function",
    "builtin_function_or_method",
    "instance",
    "_Feature"
   ],
   "window_display": false
  }
 },
 "nbformat": 4,
 "nbformat_minor": 2
}
